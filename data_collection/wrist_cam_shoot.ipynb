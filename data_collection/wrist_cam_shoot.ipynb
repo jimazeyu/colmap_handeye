{
 "cells": [
  {
   "cell_type": "markdown",
   "metadata": {},
   "source": [
    "# Connect Franka"
   ]
  },
  {
   "cell_type": "code",
   "execution_count": 1,
   "metadata": {},
   "outputs": [],
   "source": [
    "# Panda hostname/IP and Desk login information of your robot\n",
    "hostname = '172.16.0.2'\n",
    "username = 'admin'\n",
    "password = '******'\n",
    "\n",
    "# panda-py is chatty, activate information log level\n",
    "import logging\n",
    "logging.basicConfig(level=logging.INFO)"
   ]
  },
  {
   "cell_type": "code",
   "execution_count": null,
   "metadata": {},
   "outputs": [],
   "source": [
    "import panda_py\n",
    "from panda_py import libfranka\n",
    "\n",
    "panda = panda_py.Panda(hostname)\n",
    "gripper = libfranka.Gripper(hostname)\n",
    "panda.move_to_start()"
   ]
  },
  {
   "cell_type": "code",
   "execution_count": 3,
   "metadata": {},
   "outputs": [],
   "source": [
    "from panda_py import constants\n",
    "from scipy.spatial.transform import Rotation as R\n",
    "import numpy as np\n",
    "import matplotlib.pyplot as plt\n",
    "import os\n",
    "import time"
   ]
  },
  {
   "cell_type": "markdown",
   "metadata": {},
   "source": [
    "# Shoot from Different Views"
   ]
  },
  {
   "cell_type": "code",
   "execution_count": 4,
   "metadata": {},
   "outputs": [],
   "source": [
    "# read shooting pose(7 dof joint position in one line) from file\n",
    "joint_position_list = np.loadtxt(\"shooting_pose_tabletop.txt\", delimiter=',')"
   ]
  },
  {
   "cell_type": "code",
   "execution_count": null,
   "metadata": {},
   "outputs": [],
   "source": [
    "import sys\n",
    "parent_dir = os.path.dirname(os.getcwd())\n",
    "parent_dir = os.path.dirname(parent_dir)\n",
    "sys.path.append(parent_dir)\n",
    "from realsense.realsense import Camera\n",
    "\n",
    "\n",
    "base_dir = '/home/annabella/Documents/jima_ws/grasp_splats_old/scene_data/release_video'\n",
    "os.makedirs(f'{base_dir}/images', exist_ok=True)\n",
    "os.makedirs(f'{base_dir}/depth', exist_ok=True)\n",
    "os.makedirs(f'{base_dir}/poses', exist_ok=True)\n",
    "\n",
    "device_serial = '145422070656'\n",
    "\n",
    "rgb_resolution = (1280, 720)  # RGB resolution (width, height)\n",
    "depth_resolution = (1280, 720)  # Depth resolution (width, height)\n",
    "camera = Camera(device_serial, rgb_resolution, depth_resolution)\n",
    "camera.start()\n",
    "\n",
    "rgb_intrinsics, rgb_coeffs, depth_intrinsics, depth_coeffs = camera.get_intrinsics_raw()\n",
    "depth_scale = camera.get_depth_scale()\n",
    "\n",
    "print(f\"RGB Intrinsics: {rgb_intrinsics}\")\n",
    "print(f\"RGB Distortion Coefficients: {rgb_coeffs}\")\n",
    "rgb_intrinsics_path = f'{base_dir}/rgb_intrinsics.npz'\n",
    "np.savez(rgb_intrinsics_path, fx=rgb_intrinsics.fx, fy=rgb_intrinsics.fy, ppx=rgb_intrinsics.ppx, ppy=rgb_intrinsics.ppy, coeffs=rgb_intrinsics.coeffs)\n",
    "\n",
    "print(f\"Depth Scale: {depth_scale}\")\n",
    "print(f\"Depth Intrinsics: {depth_intrinsics}\")\n",
    "print(f\"Depth Distortion Coefficients: {depth_coeffs}\")\n",
    "depth_intrinsics_path = f'{base_dir}/depth_intrinsics.npz'\n",
    "np.savez(depth_intrinsics_path, fx=depth_intrinsics.fx, fy=depth_intrinsics.fy, ppx=depth_intrinsics.ppx, ppy=depth_intrinsics.ppy, coeffs=depth_intrinsics.coeffs, depth_scale=depth_scale)\n",
    "\n",
    "# drop the first few frames to allow the camera to warm up\n",
    "_, _ = camera.shoot()  \n",
    "time.sleep(2)\n",
    "panda.move_to_start()\n",
    "\n",
    "for i in range(joint_position_list.shape[0]):\n",
    "    joint_position = joint_position_list[i]\n",
    "    panda.move_to_joint_position(joint_position)\n",
    "    pose = panda.get_pose()\n",
    "\n",
    "    rgb_image, depth_image = camera.shoot()\n",
    "    depth_image = depth_image * depth_scale\n",
    "    rgb_filename = f'{base_dir}/images/{i}.png'\n",
    "    depth_filename = f'{base_dir}/depth/{i}.npy'\n",
    "    plt.imsave(rgb_filename, rgb_image)\n",
    "    np.save(depth_filename, depth_image)\n",
    "    print(f\"Saved {rgb_filename}\")\n",
    "    print(f\"Saved {depth_filename}\")\n",
    "\n",
    "    def save_pose(pose, base_dir, frame_num):\n",
    "        \"\"\"Save the robot arm's pose to a file.\"\"\"\n",
    "        pose_filename = f'{base_dir}/poses/{frame_num}.npy'\n",
    "        np.save(pose_filename, pose)\n",
    "        print(f\"Saved pose to {pose_filename}\")\n",
    "\n",
    "    save_pose(pose, base_dir, i)"
   ]
  }
 ],
 "metadata": {
  "kernelspec": {
   "display_name": "pypanda",
   "language": "python",
   "name": "python3"
  },
  "language_info": {
   "codemirror_mode": {
    "name": "ipython",
    "version": 3
   },
   "file_extension": ".py",
   "mimetype": "text/x-python",
   "name": "python",
   "nbconvert_exporter": "python",
   "pygments_lexer": "ipython3",
   "version": "3.8.19"
  }
 },
 "nbformat": 4,
 "nbformat_minor": 2
}
